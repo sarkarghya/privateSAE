{
 "cells": [
  {
   "cell_type": "markdown",
   "id": "cf69bb3f-94e6-4dba-92cd-ce08df117d67",
   "metadata": {
    "id": "cf69bb3f-94e6-4dba-92cd-ce08df117d67"
   },
   "source": [
    "## Solvency demo\n",
    "\n",
    "Here we create a demo of a solvency calculation in the manner of [summa-solvency](https://github.com/summa-dev/summa-solvency). The aim here is to demonstrate the use of the new polycommit method detailed [here](https://blog.ezkl.xyz/post/commits/).\n",
    "\n",
    "In this setup:\n",
    "- the commitments to users, respective balances, and total balance are known are publicly known to the prover and verifier.\n",
    "- We leave the outputs of the model as public as well (known to the  verifier and prover).\n",
    "\n",
    "The circuit calculates the total sum of the balances, and checks that it is less than the total balance which is precommited to."
   ]
  },
  {
   "cell_type": "code",
   "execution_count": 1,
   "id": "95613ee9",
   "metadata": {
    "id": "95613ee9"
   },
   "outputs": [],
   "source": [
    "# check if notebook is in colab\n",
    "try:\n",
    "    # install ezkl\n",
    "    import google.colab\n",
    "    import subprocess\n",
    "    import sys\n",
    "    subprocess.check_call([sys.executable, \"-m\", \"pip\", \"install\", \"ezkl\"])\n",
    "    subprocess.check_call([sys.executable, \"-m\", \"pip\", \"install\", \"onnx\"])\n",
    "    subprocess.check_call([sys.executable, \"-m\", \"pip\", \"install\", \"pytest\"])\n",
    "\n",
    "# rely on local installation of ezkl if the notebook is not in colab\n",
    "except:\n",
    "    pass\n",
    "\n",
    "# uncomment to enable logging\n",
    "# import logging\n",
    "# FORMAT = '%(levelname)s %(name)s %(asctime)-15s %(filename)s:%(lineno)d %(message)s'\n",
    "# logging.basicConfig(format=FORMAT)\n",
    "# logging.getLogger().setLevel(logging.DEBUG)\n",
    "\n",
    "\n",
    "# here we create and (potentially train a model)\n",
    "\n",
    "# make sure you have the dependencies required here already installed\n",
    "from torch import nn\n",
    "import ezkl\n",
    "import os\n",
    "import json\n",
    "import torch\n",
    "\n",
    "class Circuit(nn.Module):\n",
    "    def __init__(self):\n",
    "        super(Circuit, self).__init__()\n",
    "\n",
    "    def forward(self, users, balances, total):\n",
    "        nil = torch.nn.Parameter(torch.tensor([0.0]))\n",
    "        # calculate the total balance across all users second term will be ignored by the optimizer but will force it to be included in a separate col for commitment\n",
    "        balances = torch.sum(balances, dim=1) + nil * users\n",
    "        # now check if the total balance is less than the total\n",
    "        return (balances[:,0] <= total)\n",
    "\n",
    "\n",
    "circuit = Circuit()\n",
    "\n",
    "# Train the model as you like here (skipped for brevity)\n",
    "\n"
   ]
  },
  {
   "cell_type": "code",
   "execution_count": 2,
   "id": "b37637c4",
   "metadata": {
    "id": "b37637c4"
   },
   "outputs": [],
   "source": [
    "model_path = os.path.join('network.onnx')\n",
    "compiled_model_path = os.path.join('network.compiled')\n",
    "pk_path = os.path.join('test.pk')\n",
    "vk_path = os.path.join('test.vk')\n",
    "settings_path = os.path.join('settings.json')\n",
    "\n",
    "witness_path = os.path.join('witness.json')\n",
    "data_path = os.path.join('input.json')"
   ]
  },
  {
   "cell_type": "markdown",
   "id": "1c21e56e",
   "metadata": {
    "id": "1c21e56e"
   },
   "source": [
    "We create dummy data here for the sake of demonstration. In a real world scenario, the data would be provided by the users, and the commitments would be made by some trusted party.\n",
    "\n",
    "The users are generated as hashes of the integers 0 to 9. The balances are generated as integers between 0 and 10.\n",
    "\n",
    "The total balance is the sum of the balances."
   ]
  },
  {
   "cell_type": "code",
   "execution_count": 3,
   "id": "dfd6c7e7",
   "metadata": {
    "id": "dfd6c7e7"
   },
   "outputs": [
    {
     "name": "stderr",
     "output_type": "stream",
     "text": [
      "/state/partition1/job-60084051/ipykernel_2668910/3345491920.py:36: TracerWarning: torch.tensor results are registered as constants in the trace. You can safely ignore this warning if you use this function to create tensors out of constant variables that would be the same every time you call this function. In any other case, this might cause the trace to be incorrect.\n",
      "  nil = torch.nn.Parameter(torch.tensor([0.0]))\n"
     ]
    }
   ],
   "source": [
    "\n",
    "\n",
    "user_preimages = [0.0, 1.0, 2.0, 3.0, 4.0, 9.0]\n",
    "balances = torch.tensor([0, 2, 3, 4, 5, 10])\n",
    "balances = balances.reshape(1, 6)\n",
    "\n",
    "\n",
    "# Create an empty list to store the hashes of float -- which I guess we'll call the users here\n",
    "users = []\n",
    "\n",
    "# Loop through each element in the y tensor\n",
    "for e in user_preimages:\n",
    "    # Apply the custom function and append the result to the list\n",
    "    users.append(ezkl.poseidon_hash([ezkl.float_to_felt(e, 0)])[0])\n",
    "\n",
    "users_t = torch.tensor(user_preimages)\n",
    "users_t = users_t.reshape(1, 6)\n",
    "\n",
    "total = torch.tensor([25])\n",
    "total = total.reshape(1, 1)\n",
    "\n",
    "# Flips thegraph into inference mode\n",
    "circuit.eval()\n",
    "\n",
    "    # Export the model\n",
    "torch.onnx.export(circuit,               # model being run\n",
    "                      (users_t,balances,total),                   # model input (or a tuple for multiple inputs)\n",
    "                      model_path,            # where to save the model (can be a file or file-like object)\n",
    "                      export_params=True,        # store the trained parameter weights inside the model file\n",
    "                      opset_version=17,          # the ONNX version to export the model to\n",
    "                      do_constant_folding=False,  # whether to execute constant folding for optimization\n",
    "                      input_names = ['input'],   # the model's input names\n",
    "                      output_names = ['output'], # the model's output names\n",
    "                      dynamic_axes={'input' : {0 : 'batch_size'},    # variable length axes\n",
    "                                    'output' : {0 : 'batch_size'}})\n",
    "\n",
    "\n",
    "\n",
    "data_array_x = users\n",
    "data_array_y = ((balances).detach().numpy()).reshape([-1]).tolist()\n",
    "data_array_z = ((total).detach().numpy()).reshape([-1]).tolist()\n",
    "\n",
    "data = dict(input_data = [data_array_x, data_array_y, data_array_z])\n",
    "\n",
    "\n",
    "    # Serialize data into file:\n",
    "json.dump( data, open(data_path, 'w' ))\n"
   ]
  },
  {
   "cell_type": "markdown",
   "id": "22d3d8df",
   "metadata": {
    "id": "22d3d8df"
   },
   "source": [
    "This is where the magic happens. We define our `PyRunArgs` objects which contains the visibility parameters for out model.\n",
    "- `input_visibility` defines the visibility of the model inputs\n",
    "- `param_visibility` defines the visibility of the model weights and constants and parameters\n",
    "- `output_visibility` defines the visibility of the model outputs\n",
    "\n",
    "There are currently 5 visibility settings:\n",
    "- `public`: known to both the verifier and prover (a subtle nuance is that this may not be the case for model parameters but until we have more rigorous theoretical results we don't want to make strong claims as to this).\n",
    "- `private`: known only to the prover\n",
    "- `hashed`: the hash pre-image is known to the prover, the prover and verifier know the hash. The prover proves that the they know the pre-image to the hash.\n",
    "- `encrypted`: the non-encrypted element and the secret key used for decryption are known to the prover. The prover and the verifier know the encrypted element, the public key used to encrypt, and the hash of the decryption hey. The prover proves that they know the pre-image of the hashed decryption key and that this key can in fact decrypt the encrypted message.\n",
    "- `polycommit`: unblinded advice column which generates a kzg commitment. This doesn't appear in the instances of the circuit and must instead be modified directly within the proof bytes.  \n",
    "\n",
    "Here we create the following setup:\n",
    "- `input_visibility`: \"polycommit\"\n",
    "- `param_visibility`: \"public\"\n",
    "- `output_visibility`: public\n",
    "\n",
    "We encourage you to play around with other setups :)\n",
    "\n",
    "Shoutouts:\n",
    "\n",
    "- [summa-solvency](https://github.com/summa-dev/summa-solvency) for their help with the poseidon hashing chip.\n",
    "- [timeofey](https://github.com/timoftime) for providing inspiration in our developement of the el-gamal encryption circuit in Halo2."
   ]
  },
  {
   "cell_type": "code",
   "execution_count": 4,
   "id": "d5e374a2",
   "metadata": {
    "id": "d5e374a2"
   },
   "outputs": [],
   "source": [
    "run_args = ezkl.PyRunArgs()\n",
    "# \"polycommit\" means that the output of the hashing is not visible to the verifier and is instead fed into the computational graph\n",
    "run_args.input_visibility = \"polycommit\"\n",
    "run_args.ignore_range_check_inputs_outputs = True\n",
    "# the parameters are public\n",
    "run_args.param_visibility = \"fixed\"\n",
    "# the output is public (this is the inequality test)\n",
    "run_args.output_visibility = \"public\"\n",
    "run_args.variables = [(\"batch_size\", 1)]\n",
    "# never rebase the scale\n",
    "run_args.scale_rebase_multiplier = 1000\n",
    "# logrows\n",
    "run_args.logrows = 11\n",
    "run_args.lookup_range = (-1000,1000)\n",
    "run_args.input_scale = 0\n",
    "run_args.param_scale = 0\n",
    "\n",
    "\n",
    "# TODO: Dictionary outputs\n",
    "res = ezkl.gen_settings(model_path, settings_path, py_run_args=run_args)\n",
    "assert res == True\n"
   ]
  },
  {
   "cell_type": "code",
   "execution_count": 5,
   "id": "3aa4f090",
   "metadata": {
    "id": "3aa4f090"
   },
   "outputs": [
    {
     "name": "stderr",
     "output_type": "stream",
     "text": [
      "low scale values (<8) may impact precision\n"
     ]
    }
   ],
   "source": [
    "res = ezkl.compile_circuit(model_path, compiled_model_path, settings_path)\n",
    "assert res == True"
   ]
  },
  {
   "cell_type": "code",
   "execution_count": 6,
   "id": "8b74dcee",
   "metadata": {
    "id": "8b74dcee"
   },
   "outputs": [],
   "source": [
    "# srs path\n",
    "res = await ezkl.get_srs( settings_path)"
   ]
  },
  {
   "cell_type": "markdown",
   "id": "f7c98c96",
   "metadata": {
    "id": "f7c98c96"
   },
   "source": [
    "We'll generate two proofs, one with the correct total balance, and one with an incorrect total balance.\n",
    "\n",
    "## Correct total balance\n",
    "\n",
    "The data file above has a total balance of above the user total balance. We'll generate a proof with this total balance."
   ]
  },
  {
   "cell_type": "code",
   "execution_count": 7,
   "id": "93e90079",
   "metadata": {
    "id": "93e90079"
   },
   "outputs": [
    {
     "name": "stderr",
     "output_type": "stream",
     "text": [
      "Using 9 columns for range-check.\n",
      "Using 9 columns for range-check.\n"
     ]
    }
   ],
   "source": [
    "# setup keypair\n",
    "res = ezkl.setup(\n",
    "        compiled_model_path,\n",
    "        vk_path,\n",
    "        pk_path,\n",
    "\n",
    "    )\n",
    "\n",
    "assert res == True\n",
    "assert os.path.isfile(vk_path)\n",
    "assert os.path.isfile(pk_path)\n",
    "assert os.path.isfile(settings_path)"
   ]
  },
  {
   "cell_type": "code",
   "execution_count": 8,
   "id": "efa0ac91",
   "metadata": {
    "id": "efa0ac91"
   },
   "outputs": [
    {
     "name": "stderr",
     "output_type": "stream",
     "text": [
      "Using 9 columns for range-check.\n"
     ]
    }
   ],
   "source": [
    "!export RUST_BACKTRACE=1\n",
    "\n",
    "witness_path = \"witness.json\"\n",
    "\n",
    "res = await ezkl.gen_witness(data_path, compiled_model_path, witness_path, vk_path)\n",
    "assert os.path.isfile(witness_path)\n",
    "\n",
    "# we force the output to be 1 this corresponds to the solvency test being true -- and we set this to a fixed vis output\n",
    "# this means that the output is fixed and the verifier can see it but that if the input is not in the set the output will not be 0 and the verifier will reject\n",
    "witness = json.load(open(witness_path, \"r\"))\n",
    "witness[\"outputs\"][0] = [ezkl.float_to_felt(1.0, 0)]\n",
    "json.dump(witness, open(witness_path, \"w\"))"
   ]
  },
  {
   "cell_type": "code",
   "execution_count": 9,
   "id": "90973daf",
   "metadata": {
    "id": "90973daf"
   },
   "outputs": [
    {
     "name": "stderr",
     "output_type": "stream",
     "text": [
      "Using 9 columns for range-check.\n",
      "Using 9 columns for range-check.\n"
     ]
    },
    {
     "name": "stdout",
     "output_type": "stream",
     "text": [
      "{'instances': [['0100000000000000000000000000000000000000000000000000000000000000']], 'proof': '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', 'transcript_type': 'EVM'}\n"
     ]
    }
   ],
   "source": [
    "proof_path = os.path.join('proof.json')\n",
    "# proof path\n",
    "res = ezkl.prove(\n",
    "        witness_path,\n",
    "        compiled_model_path,\n",
    "        pk_path,\n",
    "        proof_path,\n",
    "\n",
    "        \"single\",\n",
    "    )\n",
    "\n",
    "assert os.path.isfile(proof_path)\n",
    "\n",
    "print(res)\n"
   ]
  },
  {
   "cell_type": "markdown",
   "id": "ef79b4ee",
   "metadata": {
    "id": "ef79b4ee"
   },
   "source": [
    "- now we swap the commitments of the proof as a way to demonstrate that the proof is valid given some public inputs\n",
    "- this is just for testing purposes and would require fetching public commits from the blockchain or some other source\n",
    "- see https://blog.ezkl.xyz/post/commits/ for more details"
   ]
  },
  {
   "cell_type": "code",
   "execution_count": 10,
   "id": "8bb46735",
   "metadata": {
    "id": "8bb46735"
   },
   "outputs": [],
   "source": [
    "\n",
    "\n",
    "res = ezkl.swap_proof_commitments(proof_path, witness_path)\n"
   ]
  },
  {
   "cell_type": "code",
   "execution_count": 11,
   "id": "59f3b1e9",
   "metadata": {
    "id": "59f3b1e9"
   },
   "outputs": [
    {
     "name": "stderr",
     "output_type": "stream",
     "text": [
      "Using 9 columns for range-check.\n"
     ]
    }
   ],
   "source": [
    "# verify the proof\n",
    "res = ezkl.verify(\n",
    "        proof_path,\n",
    "        settings_path,\n",
    "        vk_path,\n",
    "\n",
    "    )\n",
    "assert res == True"
   ]
  },
  {
   "cell_type": "markdown",
   "id": "77dec3dd",
   "metadata": {
    "id": "77dec3dd"
   },
   "source": [
    "### Faulty proof\n",
    "\n",
    "We'll generate a proof with a total balance of 10. This is below the user total balance."
   ]
  },
  {
   "cell_type": "code",
   "execution_count": 12,
   "id": "FQfGdcUNpvuK",
   "metadata": {
    "id": "FQfGdcUNpvuK"
   },
   "outputs": [],
   "source": [
    "# now generate a truthy input + witness file (x input not in the set)\n",
    "import random\n",
    "\n",
    "data_path_truthy = os.path.join('input.json')\n",
    "data = json.load(open(data_path, 'r' ))\n",
    "data['input_data'][2] = [10]\n",
    "\n",
    "data_path_faulty = os.path.join('input_faulty.json')\n",
    "# Serialize data into file:\n",
    "json.dump( data, open(data_path_faulty, 'w' ))\n"
   ]
  },
  {
   "cell_type": "code",
   "execution_count": 13,
   "id": "b1c561a8",
   "metadata": {
    "id": "b1c561a8"
   },
   "outputs": [
    {
     "name": "stderr",
     "output_type": "stream",
     "text": [
      "Using 9 columns for range-check.\n"
     ]
    }
   ],
   "source": [
    "# now generate the witness file\n",
    "\n",
    "res = await ezkl.gen_witness(data_path_faulty, compiled_model_path, witness_path, vk_path)\n",
    "assert os.path.isfile(witness_path)\n",
    "\n",
    "# we force the output to be 1 this corresponds to the solvency test being true -- and we set this to a fixed vis output\n",
    "# this means that the output is fixed and the verifier can see it but that if the input is not in the set the output will not be 0 and the verifier will reject\n",
    "witness = json.load(open(witness_path, \"r\"))\n",
    "witness[\"outputs\"][0] = [ezkl.float_to_felt(1.0, 0)]\n",
    "json.dump(witness, open(witness_path, \"w\"))\n"
   ]
  },
  {
   "cell_type": "code",
   "execution_count": 14,
   "id": "c384cbc8",
   "metadata": {
    "id": "c384cbc8"
   },
   "outputs": [
    {
     "name": "stderr",
     "output_type": "stream",
     "text": [
      "Using 9 columns for range-check.\n",
      "Using 9 columns for range-check.\n"
     ]
    },
    {
     "name": "stdout",
     "output_type": "stream",
     "text": [
      "{'instances': [['0100000000000000000000000000000000000000000000000000000000000000']], 'proof': '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', 'transcript_type': 'EVM'}\n"
     ]
    }
   ],
   "source": [
    "# GENERATE A PROOF\n",
    "\n",
    "\n",
    "proof_path = os.path.join('test.pf')\n",
    "\n",
    "res = ezkl.prove(\n",
    "        witness_path,\n",
    "        compiled_model_path,\n",
    "        pk_path,\n",
    "        proof_path,\n",
    "\n",
    "        \"single\",\n",
    "    )\n",
    "\n",
    "print(res)\n",
    "assert os.path.isfile(proof_path)"
   ]
  },
  {
   "cell_type": "code",
   "execution_count": 15,
   "id": "4edaca46",
   "metadata": {
    "id": "4edaca46"
   },
   "outputs": [],
   "source": [
    "res = ezkl.swap_proof_commitments(proof_path, witness_path)\n"
   ]
  },
  {
   "cell_type": "markdown",
   "id": "638d776f",
   "metadata": {
    "id": "638d776f"
   },
   "source": [
    "Now we test that verification fails"
   ]
  },
  {
   "cell_type": "code",
   "execution_count": 17,
   "id": "4nqEx7-qpciQ",
   "metadata": {
    "id": "4nqEx7-qpciQ"
   },
   "outputs": [
    {
     "name": "stderr",
     "output_type": "stream",
     "text": [
      "Using 9 columns for range-check.\n"
     ]
    }
   ],
   "source": [
    "import pytest\n",
    "\n",
    "def test_verification():\n",
    "    with pytest.raises(RuntimeError, match='Failed to run verify: \\\\[halo2\\\\] The constraint system is not satisfied'):\n",
    "        ezkl.verify(\n",
    "            proof_path,\n",
    "            settings_path,\n",
    "            vk_path,\n",
    "        )\n",
    "\n",
    "# Run the test function\n",
    "test_verification()"
   ]
  },
  {
   "cell_type": "code",
   "execution_count": null,
   "id": "96c7faa4-3a87-4dd1-a64c-e9d414235d39",
   "metadata": {},
   "outputs": [],
   "source": []
  }
 ],
 "metadata": {
  "colab": {
   "provenance": []
  },
  "kernelspec": {
   "display_name": "jup_env_0503",
   "language": "python",
   "name": "jup_env_0503"
  },
  "language_info": {
   "codemirror_mode": {
    "name": "ipython",
    "version": 3
   },
   "file_extension": ".py",
   "mimetype": "text/x-python",
   "name": "python",
   "nbconvert_exporter": "python",
   "pygments_lexer": "ipython3",
   "version": "3.12.9"
  }
 },
 "nbformat": 4,
 "nbformat_minor": 5
}
